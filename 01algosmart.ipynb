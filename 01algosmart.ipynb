{
  "nbformat": 4,
  "nbformat_minor": 0,
  "metadata": {
    "colab": {
      "provenance": [],
      "authorship_tag": "ABX9TyPjqsGVRReTrSKxbZivv9hw",
      "include_colab_link": true
    },
    "kernelspec": {
      "name": "python3",
      "display_name": "Python 3"
    },
    "language_info": {
      "name": "python"
    }
  },
  "cells": [
    {
      "cell_type": "markdown",
      "metadata": {
        "id": "view-in-github",
        "colab_type": "text"
      },
      "source": [
        "<a href=\"https://colab.research.google.com/github/peterhgruber/algosmartcolab/blob/main/01algosmart.ipynb\" target=\"_parent\"><img src=\"https://colab.research.google.com/assets/colab-badge.svg\" alt=\"Open In Colab\"/></a>"
      ]
    },
    {
      "cell_type": "code",
      "execution_count": null,
      "metadata": {
        "id": "m4RmMn9_9qON"
      },
      "outputs": [],
      "source": []
    },
    {
      "cell_type": "markdown",
      "source": [
        "# 01 Getting Started\n",
        "peter.gruber@usi.ch\n",
        "\n",
        "**Contents**\n",
        "* Create an Algorand account\n",
        "  * Manage your private keys\n",
        "  * Fund the account from the Algo faucet\n",
        "*"
      ],
      "metadata": {
        "id": "lfo9F_fcnVOd"
      }
    }
  ]
}