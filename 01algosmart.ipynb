{
  "nbformat": 4,
  "nbformat_minor": 0,
  "metadata": {
    "colab": {
      "provenance": [],
      "authorship_tag": "ABX9TyMVeYvE9IaVvZ120+xVF/vP",
      "include_colab_link": true
    },
    "kernelspec": {
      "name": "python3",
      "display_name": "Python 3"
    },
    "language_info": {
      "name": "python"
    }
  },
  "cells": [
    {
      "cell_type": "markdown",
      "metadata": {
        "id": "view-in-github",
        "colab_type": "text"
      },
      "source": [
        "<a href=\"https://colab.research.google.com/github/peterhgruber/algosmartcolab/blob/main/01algosmart.ipynb\" target=\"_parent\"><img src=\"https://colab.research.google.com/assets/colab-badge.svg\" alt=\"Open In Colab\"/></a>"
      ]
    },
    {
      "cell_type": "markdown",
      "source": [
        "# 01 Getting Started\n",
        "peter.gruber@usi.ch\n",
        "\n",
        "**Contents**\n",
        "* Create an Algorand account\n",
        "  * Manage your private keys\n",
        "  * Fund the account from the Algo faucet\n",
        "* Connect to the Algorand blockchain\n",
        "* Make a first payment transaction"
      ],
      "metadata": {
        "id": "lfo9F_fcnVOd"
      }
    },
    {
      "cell_type": "markdown",
      "source": [
        "## 01.1 Setup\n",
        "* Install the Python packages **every time** you run this notebook in Colab\n",
        "  * Is there an alternative? Yes, but it is more complicated, see xxx"
      ],
      "metadata": {
        "id": "nK382gaEoQ51"
      }
    },
    {
      "cell_type": "code",
      "source": [
        "!pip install py-algorand-sdk"
      ],
      "metadata": {
        "id": "FZ6Fh-N0oFUJ",
        "outputId": "53efbae0-1759-4dd3-d207-95606af44eb2",
        "colab": {
          "base_uri": "https://localhost:8080/"
        }
      },
      "execution_count": 1,
      "outputs": [
        {
          "output_type": "stream",
          "name": "stdout",
          "text": [
            "Collecting py-algorand-sdk\n",
            "  Downloading py_algorand_sdk-2.5.0-py3-none-any.whl (111 kB)\n",
            "\u001b[2K     \u001b[90m━━━━━━━━━━━━━━━━━━━━━━━━━━━━━━━━━━━━━━━━\u001b[0m \u001b[32m111.8/111.8 kB\u001b[0m \u001b[31m2.8 MB/s\u001b[0m eta \u001b[36m0:00:00\u001b[0m\n",
            "\u001b[?25hCollecting pynacl<2,>=1.4.0 (from py-algorand-sdk)\n",
            "  Downloading PyNaCl-1.5.0-cp36-abi3-manylinux_2_17_x86_64.manylinux2014_x86_64.manylinux_2_24_x86_64.whl (856 kB)\n",
            "\u001b[2K     \u001b[90m━━━━━━━━━━━━━━━━━━━━━━━━━━━━━━━━━━━━━━━━\u001b[0m \u001b[32m856.7/856.7 kB\u001b[0m \u001b[31m14.4 MB/s\u001b[0m eta \u001b[36m0:00:00\u001b[0m\n",
            "\u001b[?25hCollecting pycryptodomex<4,>=3.6.0 (from py-algorand-sdk)\n",
            "  Downloading pycryptodomex-3.19.1-cp35-abi3-manylinux_2_17_x86_64.manylinux2014_x86_64.whl (2.1 MB)\n",
            "\u001b[2K     \u001b[90m━━━━━━━━━━━━━━━━━━━━━━━━━━━━━━━━━━━━━━━━\u001b[0m \u001b[32m2.1/2.1 MB\u001b[0m \u001b[31m19.6 MB/s\u001b[0m eta \u001b[36m0:00:00\u001b[0m\n",
            "\u001b[?25hRequirement already satisfied: msgpack<2,>=1.0.0 in /usr/local/lib/python3.10/dist-packages (from py-algorand-sdk) (1.0.7)\n",
            "Requirement already satisfied: cffi>=1.4.1 in /usr/local/lib/python3.10/dist-packages (from pynacl<2,>=1.4.0->py-algorand-sdk) (1.16.0)\n",
            "Requirement already satisfied: pycparser in /usr/local/lib/python3.10/dist-packages (from cffi>=1.4.1->pynacl<2,>=1.4.0->py-algorand-sdk) (2.21)\n",
            "Installing collected packages: pycryptodomex, pynacl, py-algorand-sdk\n",
            "Successfully installed py-algorand-sdk-2.5.0 pycryptodomex-3.19.1 pynacl-1.5.0\n"
          ]
        }
      ]
    },
    {
      "cell_type": "code",
      "source": [
        "from algosdk import account\n",
        "import json"
      ],
      "metadata": {
        "id": "mopqRnqyoMa1"
      },
      "execution_count": 15,
      "outputs": []
    },
    {
      "cell_type": "markdown",
      "source": [
        "## 01.2 Create two accounts\n",
        "* One account for **Alice**, your main account\n",
        "* One account for **Bob** (so that Alice can interact with somebody)"
      ],
      "metadata": {
        "id": "_YlUMMkQop76"
      }
    },
    {
      "cell_type": "code",
      "source": [
        "# Generate a list containing\n",
        "# (0) private key\n",
        "# (1) public address\n",
        "account.generate_account()"
      ],
      "metadata": {
        "id": "GMmgdRHzpYo5",
        "outputId": "6ca65fa9-95fb-4949-ae81-90ad312635f8",
        "colab": {
          "base_uri": "https://localhost:8080/"
        }
      },
      "execution_count": 5,
      "outputs": [
        {
          "output_type": "execute_result",
          "data": {
            "text/plain": [
              "('0Fxy9NuoL0NiuX79viMmk9LHMvCIj/Opf7C/AfRwzGY1K+6I2fW9U9EOG4RMXJV5Sbq1w5/tvtNITlARUZv4mw==',\n",
              " 'GUV65CGZ6W6VHUIODOCEYXEVPFE3VNODT7W35U2IJZIBCUM37CNTJNZBVM')"
            ]
          },
          "metadata": {},
          "execution_count": 5
        }
      ]
    },
    {
      "cell_type": "code",
      "source": [
        "# Organize the keys as Python dictionary\n",
        "keys_alice = account.generate_account()\n",
        "Alice = {'private': keys_alice[0], 'public': keys_alice[1]}\n",
        "keys_bob = account.generate_account()\n",
        "Bob = {'private': keys_bob[0], 'public': keys_bob[1]}"
      ],
      "metadata": {
        "id": "26ohJ8uVpsa9"
      },
      "execution_count": 9,
      "outputs": []
    },
    {
      "cell_type": "code",
      "source": [
        "# Print addresses\n",
        "print(Alice['public'])\n",
        "print(Bob['public'])"
      ],
      "metadata": {
        "id": "W3CWu6j92Oih",
        "outputId": "470e4ae6-0e1b-48e5-b0eb-7b47956c6339",
        "colab": {
          "base_uri": "https://localhost:8080/"
        }
      },
      "execution_count": 11,
      "outputs": [
        {
          "output_type": "stream",
          "name": "stdout",
          "text": [
            "7RPHV4VBLCTYHCFWEZ47Y47CRLHHAW5WHVUO5UOOVLNMATFOJAHRQMDGC4\n",
            "VGSDFAHMW3JCO2KMTIE5ANCTPAB4RX3MOMZ5X7LJTJS7CCEPFZXODSEA7U\n"
          ]
        }
      ]
    },
    {
      "cell_type": "code",
      "source": [
        "# Create a big credentails dictionary\n",
        "cred = {'algod_test' : 'https://testnet-api.algonode.cloud',\n",
        "        'algod_main' : 'https://mainnet-api.algonode.cloud',\n",
        "        'index_test' : 'https://testnet-idx.algonode.cloud',\n",
        "        'index_main' : 'https://mainnet-idx.algonode.cloud',\n",
        "        'pinata_jwt' : 'your pinata jason web token here',\n",
        "        'pinata_secret' : 'your pinata API secret here'\n",
        "        }\n",
        "cred['Alice'] = Alice\n",
        "cred['Bob'] = Bob\n"
      ],
      "metadata": {
        "id": "FWF5zzC82Yud"
      },
      "execution_count": 17,
      "outputs": []
    },
    {
      "cell_type": "code",
      "source": [
        "# Save the keys in a file on your Google drive (but do not overwrite)\n",
        "from google.colab import drive\n",
        "drive.mount('/content/drive')\n",
        "\n",
        "cred_json = json.dumps(cred,indent=4)                                    # nice formatting\n",
        "\n",
        "filename = '/content/drive/My Drive/algo_credentials'\n",
        "if not os.path.exists(filenme):\n",
        "    with open(filename, 'w') as outfile:                                     # option 'w' ensures overwriting of existing file\n",
        "        outfile.write(cred_json)"
      ],
      "metadata": {
        "id": "rwPLCDDV2fNZ",
        "outputId": "9609817f-e895-444d-a615-9a9a847cc738",
        "colab": {
          "base_uri": "https://localhost:8080/"
        }
      },
      "execution_count": 19,
      "outputs": [
        {
          "output_type": "stream",
          "name": "stdout",
          "text": [
            "Drive already mounted at /content/drive; to attempt to forcibly remount, call drive.mount(\"/content/drive\", force_remount=True).\n"
          ]
        }
      ]
    },
    {
      "cell_type": "code",
      "source": [],
      "metadata": {
        "id": "8Ok3_2T93Mi8"
      },
      "execution_count": null,
      "outputs": []
    }
  ]
}